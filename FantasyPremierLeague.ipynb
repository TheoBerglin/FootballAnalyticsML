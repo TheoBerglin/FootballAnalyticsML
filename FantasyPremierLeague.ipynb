{
 "cells": [
  {
   "cell_type": "markdown",
   "metadata": {},
   "source": [
    "# Data handling for football analytics\n",
    "\n",
    "Goal of the notebook is to handle all necessery data for the project. Should download data, should sort data and create data sets for analytics.\n",
    "\n",
    "## Imports below"
   ]
  },
  {
   "cell_type": "code",
   "execution_count": 1,
   "metadata": {},
   "outputs": [],
   "source": [
    "# Add the imports needed\n",
    "import requests\n",
    "import yaml\n",
    "import os\n",
    "import json"
   ]
  },
  {
   "cell_type": "markdown",
   "metadata": {},
   "source": [
    "# Constants needed"
   ]
  },
  {
   "cell_type": "code",
   "execution_count": 2,
   "metadata": {},
   "outputs": [],
   "source": [
    "SAVE_DIRECTORY = r'C:\\Users\\theo_\\Documents\\Fotboll\\FootballAnalyticsML'\n",
    "API_URL = r'https://fantasy.premierleague.com/api/bootstrap-static/'"
   ]
  },
  {
   "cell_type": "markdown",
   "metadata": {},
   "source": [
    "# Fetch data from API"
   ]
  },
  {
   "cell_type": "code",
   "execution_count": 114,
   "metadata": {},
   "outputs": [
    {
     "name": "stdout",
     "output_type": "stream",
     "text": [
      "Data downloaded\n",
      "Data keys:\n",
      "dict_keys(['events', 'game_settings', 'phases', 'teams', 'total_players', 'elements', 'element_stats', 'element_types'])\n"
     ]
    }
   ],
   "source": [
    "def get_api_response(url):\n",
    "        \"\"\"Get response object from the API\"\"\"\n",
    "        return requests.get(url)\n",
    "\n",
    "def clean_api_response(resp):\n",
    "    \"\"\"Extract only the content from a response object\"\"\"\n",
    "    return resp.content.decode('UTF-8')\n",
    "\n",
    "def get_fantasy_data():\n",
    "    \"\"\"Get a random fact from the API\"\"\"\n",
    "    return json.loads(clean_api_response(get_api_response(API_URL)))\n",
    "\n",
    "fd = get_fantasy_data()\n",
    "print(\"Data downloaded\")\n",
    "print('Data keys:')\n",
    "print(\"{}\".format(fd.keys()))"
   ]
  },
  {
   "cell_type": "markdown",
   "metadata": {},
   "source": [
    "# Team mapper"
   ]
  },
  {
   "cell_type": "code",
   "execution_count": 115,
   "metadata": {},
   "outputs": [],
   "source": [
    "team_map = dict()\n",
    "for td in fd['teams']:\n",
    "    team_map[td['id']] = td['name']\n",
    "type_map = dict()\n",
    "for td in fd['element_types']:\n",
    "    type_map[td['id']] = td['plural_name']"
   ]
  },
  {
   "cell_type": "markdown",
   "metadata": {},
   "source": [
    "# Example player data\n",
    "Shows an example of the data used for the analysis"
   ]
  },
  {
   "cell_type": "code",
   "execution_count": 116,
   "metadata": {
    "scrolled": true
   },
   "outputs": [
    {
     "name": "stdout",
     "output_type": "stream",
     "text": [
      "chance_of_playing_next_round : None\n",
      "chance_of_playing_this_round : None\n",
      "code : 69140\n",
      "cost_change_event : 0\n",
      "cost_change_event_fall : 0\n",
      "cost_change_start : 0\n",
      "cost_change_start_fall : 0\n",
      "dreamteam_count : 0\n",
      "element_type : 2\n",
      "ep_next : None\n",
      "ep_this : None\n",
      "event_points : 0\n",
      "first_name : Shkodran\n",
      "form : 0.0\n",
      "id : 1\n",
      "in_dreamteam : False\n",
      "news : \n",
      "news_added : None\n",
      "now_cost : 55\n",
      "photo : 69140.jpg\n",
      "points_per_game : 2.6\n",
      "second_name : Mustafi\n",
      "selected_by_percent : 0.6\n",
      "special : False\n",
      "squad_number : None\n",
      "status : a\n",
      "team : 1\n",
      "team_code : 3\n",
      "total_points : 80\n",
      "transfers_in : 0\n",
      "transfers_in_event : 0\n",
      "transfers_out : 0\n",
      "transfers_out_event : 0\n",
      "value_form : 0.0\n",
      "value_season : 0.0\n",
      "web_name : Mustafi\n",
      "minutes : 2611\n",
      "goals_scored : 2\n",
      "assists : 0\n",
      "clean_sheets : 6\n",
      "goals_conceded : 40\n",
      "own_goals : 0\n",
      "penalties_saved : 0\n",
      "penalties_missed : 0\n",
      "yellow_cards : 9\n",
      "red_cards : 0\n",
      "saves : 0\n",
      "bonus : 5\n",
      "bps : 475\n",
      "influence : 718.6\n",
      "creativity : 106.0\n",
      "threat : 252.0\n",
      "ict_index : 107.8\n"
     ]
    }
   ],
   "source": [
    "for k, v in fd['elements'][0].items():\n",
    "    print('%s : %s' % (k,v))"
   ]
  },
  {
   "cell_type": "markdown",
   "metadata": {},
   "source": [
    "# Player classes"
   ]
  },
  {
   "cell_type": "code",
   "execution_count": 80,
   "metadata": {},
   "outputs": [],
   "source": [
    "class Player:\n",
    "    def __init__(self, player_data):\n",
    "        self.pd = player_data\n",
    "    def __str__(self):\n",
    "        return '{} ({}) {},  cost: {}, points: {}, roi: {:.2f}, played {} min'.format(\n",
    "            self.get_name(), self.get_position(), self.get_team(), self.get_cost(),\n",
    "            self.get_points(), self.get_roi(), self.get_time_played())\n",
    "    def get_name(self):\n",
    "        return '%s %s' % (self.pd['first_name'], self.pd['second_name'])\n",
    "    def get_team(self):\n",
    "        return team_map[self.pd['team']]\n",
    "    def get_cost(self):\n",
    "        return self.pd['now_cost']/10.0\n",
    "    def get_points(self):\n",
    "        return self.pd['total_points']\n",
    "    def get_roi(self):\n",
    "        return self.get_points()/self.get_cost()\n",
    "    def get_time_played(self):\n",
    "        return self.pd['minutes']\n",
    "    def get_position(self):\n",
    "         return type_map[self.pd['element_type']]"
   ]
  },
  {
   "cell_type": "markdown",
   "metadata": {},
   "source": [
    "# Extract list of players"
   ]
  },
  {
   "cell_type": "code",
   "execution_count": 93,
   "metadata": {},
   "outputs": [
    {
     "name": "stdout",
     "output_type": "stream",
     "text": [
      "Player data extracted\n"
     ]
    }
   ],
   "source": [
    "players = [Player(d) for d in fd['elements']]\n",
    "print('Player data extracted')"
   ]
  },
  {
   "cell_type": "code",
   "execution_count": 150,
   "metadata": {},
   "outputs": [],
   "source": [
    "roi_players = sorted(players,key=lambda x: (x.get_roi()), reverse=True)\n",
    "point_players = sorted(players,key=lambda x: (x.get_points()), reverse=True)\n",
    "roi_lowcost_players =  sorted([p for p in players if p.get_cost() < 5.5],key=lambda x: (x.get_roi()), reverse=True)"
   ]
  },
  {
   "cell_type": "code",
   "execution_count": 144,
   "metadata": {},
   "outputs": [],
   "source": [
    "def print_top_positions(sorted_list, position, n_players):\n",
    "    p = 0\n",
    "    for player in sorted_list:\n",
    "        if player.get_position() == position:\n",
    "            print(player)\n",
    "            p += 1\n",
    "        if p == n_players:\n",
    "            break\n",
    "\n",
    "def print_player_list(sorted_list, n_players=10):\n",
    "    for position in positions:\n",
    "        print('Getting top: {}'.format(position))\n",
    "        print('')\n",
    "        print_top_positions(sorted_list,position, n_players)\n",
    "        print(110*'-')\n",
    "            \n",
    "            \n",
    "positions = ['Goalkeepers', 'Defenders', 'Midfielders', 'Forwards']\n"
   ]
  },
  {
   "cell_type": "markdown",
   "metadata": {},
   "source": [
    "# Top roi players for each position"
   ]
  },
  {
   "cell_type": "code",
   "execution_count": 146,
   "metadata": {},
   "outputs": [
    {
     "name": "stdout",
     "output_type": "stream",
     "text": [
      "Getting top: Goalkeepers\n",
      "\n",
      "Alisson Ramses Becker (Goalkeepers) Liverpool,  cost: 6.0, points: 176, roi: 29.33, played 3420 min\n",
      "Jordan Pickford (Goalkeepers) Everton,  cost: 5.5, points: 161, roi: 29.27, played 3420 min\n",
      "Lukasz Fabianski (Goalkeepers) West Ham,  cost: 5.0, points: 143, roi: 28.60, played 3420 min\n",
      "Ederson Santana de Moraes (Goalkeepers) Man City,  cost: 6.0, points: 169, roi: 28.17, played 3420 min\n",
      "Hugo Lloris (Goalkeepers) Spurs,  cost: 5.5, points: 145, roi: 26.36, played 2970 min\n",
      "Martin Dubravka (Goalkeepers) Newcastle,  cost: 5.0, points: 131, roi: 26.20, played 3420 min\n",
      "Kepa Arrizabalaga (Goalkeepers) Chelsea,  cost: 5.5, points: 142, roi: 25.82, played 3240 min\n",
      "Ben Foster (Goalkeepers) Watford,  cost: 5.0, points: 129, roi: 25.80, played 3420 min\n",
      "Kasper Schmeichel (Goalkeepers) Leicester,  cost: 5.0, points: 120, roi: 24.00, played 3420 min\n",
      "Rui Pedro dos Santos Patrício (Goalkeepers) Wolves,  cost: 5.0, points: 118, roi: 23.60, played 3330 min\n",
      "Mathew Ryan (Goalkeepers) Brighton,  cost: 4.5, points: 104, roi: 23.11, played 3060 min\n",
      "Jonas Lössl (Goalkeepers) Everton,  cost: 4.5, points: 99, roi: 22.00, played 2777 min\n",
      "--------------------------------------------------------------------------------------------------------------\n",
      "Getting top: Defenders\n",
      "\n",
      "Virgil van Dijk (Defenders) Liverpool,  cost: 6.5, points: 208, roi: 32.00, played 3384 min\n",
      "Andrew Robertson (Defenders) Liverpool,  cost: 7.0, points: 213, roi: 30.43, played 3216 min\n",
      "David Luiz Moreira Marinho (Defenders) Chelsea,  cost: 6.0, points: 164, roi: 27.33, played 3238 min\n",
      "Aymeric Laporte (Defenders) Man City,  cost: 6.5, points: 177, roi: 27.23, played 3056 min\n",
      "Trent Alexander-Arnold (Defenders) Liverpool,  cost: 7.0, points: 185, roi: 26.43, played 2460 min\n",
      "César Azpilicueta (Defenders) Chelsea,  cost: 6.0, points: 158, roi: 26.33, played 3402 min\n",
      "Lucas Digne (Defenders) Everton,  cost: 6.0, points: 158, roi: 26.33, played 2964 min\n",
      "Patrick van Aanholt (Defenders) Crystal Palace,  cost: 5.5, points: 140, roi: 25.45, played 3196 min\n",
      "Kyle Walker (Defenders) Man City,  cost: 6.0, points: 150, roi: 25.00, played 2776 min\n",
      "Marcos Alonso (Defenders) Chelsea,  cost: 6.5, points: 161, roi: 24.77, played 2759 min\n",
      "Ricardo Domingos Barbosa Pereira (Defenders) Leicester,  cost: 6.0, points: 146, roi: 24.33, played 3123 min\n",
      "Nathan Aké (Defenders) Bournemouth,  cost: 5.0, points: 120, roi: 24.00, played 3411 min\n",
      "--------------------------------------------------------------------------------------------------------------\n",
      "Getting top: Midfielders\n",
      "\n",
      "Ryan Fraser (Midfielders) Bournemouth,  cost: 7.5, points: 181, roi: 24.13, played 3165 min\n",
      "Luka Milivojevic (Midfielders) Crystal Palace,  cost: 7.0, points: 166, roi: 23.71, played 3420 min\n",
      "N'Golo Kanté (Midfielders) Chelsea,  cost: 5.0, points: 116, roi: 23.20, played 3092 min\n",
      "Gylfi Sigurdsson (Midfielders) Everton,  cost: 8.0, points: 182, roi: 22.75, played 3122 min\n",
      "Andros Townsend (Midfielders) Crystal Palace,  cost: 6.0, points: 135, roi: 22.50, played 3007 min\n",
      "Felipe Anderson Pereira Gomes (Midfielders) West Ham,  cost: 7.0, points: 155, roi: 22.14, played 3045 min\n",
      "James McArthur (Midfielders) Crystal Palace,  cost: 5.5, points: 121, roi: 22.00, played 3057 min\n",
      "Ayoze Pérez (Midfielders) Leicester,  cost: 6.5, points: 141, roi: 21.69, played 2916 min\n",
      "João Filipe Iria Santos Moutinho (Midfielders) Wolves,  cost: 5.5, points: 119, roi: 21.64, played 3030 min\n",
      "Nathan Redmond (Midfielders) Southampton,  cost: 6.5, points: 137, roi: 21.08, played 3272 min\n",
      "Paul Pogba (Midfielders) Man Utd,  cost: 8.5, points: 179, roi: 21.06, played 3007 min\n",
      "Mohamed Salah (Midfielders) Liverpool,  cost: 12.5, points: 259, roi: 20.72, played 3254 min\n",
      "--------------------------------------------------------------------------------------------------------------\n",
      "Getting top: Forwards\n",
      "\n",
      "Raúl Jiménez (Forwards) Wolves,  cost: 7.5, points: 181, roi: 24.13, played 3112 min\n",
      "Joshua King (Forwards) Bournemouth,  cost: 6.5, points: 141, roi: 21.69, played 2963 min\n",
      "Glenn Murray (Forwards) Brighton,  cost: 6.0, points: 129, roi: 21.50, played 2501 min\n",
      "Diogo Jota (Forwards) Wolves,  cost: 6.5, points: 139, roi: 21.38, played 2352 min\n",
      "Callum Wilson (Forwards) Bournemouth,  cost: 8.0, points: 168, roi: 21.00, played 2528 min\n",
      "Gerard Deulofeu (Forwards) Watford,  cost: 6.5, points: 133, roi: 20.46, played 2064 min\n",
      "Chris Wood (Forwards) Burnley,  cost: 6.5, points: 131, roi: 20.15, played 2580 min\n",
      "Jamie Vardy (Forwards) Leicester,  cost: 9.0, points: 174, roi: 19.33, played 2726 min\n",
      "Ashley Barnes (Forwards) Burnley,  cost: 6.5, points: 122, roi: 18.77, played 2378 min\n",
      "Pierre-Emerick Aubameyang (Forwards) Arsenal,  cost: 11.0, points: 205, roi: 18.64, played 2722 min\n",
      "Troy Deeney (Forwards) Watford,  cost: 6.5, points: 116, roi: 17.85, played 2542 min\n",
      "Alexandre Lacazette (Forwards) Arsenal,  cost: 9.5, points: 166, roi: 17.47, played 2497 min\n",
      "--------------------------------------------------------------------------------------------------------------\n"
     ]
    }
   ],
   "source": [
    "print_player_list(roi_players, 12)"
   ]
  },
  {
   "cell_type": "markdown",
   "metadata": {},
   "source": [
    "# Top point players for each positon"
   ]
  },
  {
   "cell_type": "code",
   "execution_count": 149,
   "metadata": {},
   "outputs": [
    {
     "name": "stdout",
     "output_type": "stream",
     "text": [
      "Getting top: Goalkeepers\n",
      "\n",
      "Alisson Ramses Becker (Goalkeepers) Liverpool,  cost: 6.0, points: 176, roi: 29.33, played 3420 min\n",
      "Ederson Santana de Moraes (Goalkeepers) Man City,  cost: 6.0, points: 169, roi: 28.17, played 3420 min\n",
      "Jordan Pickford (Goalkeepers) Everton,  cost: 5.5, points: 161, roi: 29.27, played 3420 min\n",
      "Hugo Lloris (Goalkeepers) Spurs,  cost: 5.5, points: 145, roi: 26.36, played 2970 min\n",
      "Lukasz Fabianski (Goalkeepers) West Ham,  cost: 5.0, points: 143, roi: 28.60, played 3420 min\n",
      "Kepa Arrizabalaga (Goalkeepers) Chelsea,  cost: 5.5, points: 142, roi: 25.82, played 3240 min\n",
      "Martin Dubravka (Goalkeepers) Newcastle,  cost: 5.0, points: 131, roi: 26.20, played 3420 min\n",
      "Ben Foster (Goalkeepers) Watford,  cost: 5.0, points: 129, roi: 25.80, played 3420 min\n",
      "Kasper Schmeichel (Goalkeepers) Leicester,  cost: 5.0, points: 120, roi: 24.00, played 3420 min\n",
      "David de Gea (Goalkeepers) Man Utd,  cost: 5.5, points: 120, roi: 21.82, played 3420 min\n",
      "--------------------------------------------------------------------------------------------------------------\n",
      "Getting top: Defenders\n",
      "\n",
      "Andrew Robertson (Defenders) Liverpool,  cost: 7.0, points: 213, roi: 30.43, played 3216 min\n",
      "Virgil van Dijk (Defenders) Liverpool,  cost: 6.5, points: 208, roi: 32.00, played 3384 min\n",
      "Trent Alexander-Arnold (Defenders) Liverpool,  cost: 7.0, points: 185, roi: 26.43, played 2460 min\n",
      "Aymeric Laporte (Defenders) Man City,  cost: 6.5, points: 177, roi: 27.23, played 3056 min\n",
      "David Luiz Moreira Marinho (Defenders) Chelsea,  cost: 6.0, points: 164, roi: 27.33, played 3238 min\n",
      "Marcos Alonso (Defenders) Chelsea,  cost: 6.5, points: 161, roi: 24.77, played 2759 min\n",
      "César Azpilicueta (Defenders) Chelsea,  cost: 6.0, points: 158, roi: 26.33, played 3402 min\n",
      "Lucas Digne (Defenders) Everton,  cost: 6.0, points: 158, roi: 26.33, played 2964 min\n",
      "Kyle Walker (Defenders) Man City,  cost: 6.0, points: 150, roi: 25.00, played 2776 min\n",
      "Ricardo Domingos Barbosa Pereira (Defenders) Leicester,  cost: 6.0, points: 146, roi: 24.33, played 3123 min\n",
      "--------------------------------------------------------------------------------------------------------------\n",
      "Getting top: Midfielders\n",
      "\n",
      "Mohamed Salah (Midfielders) Liverpool,  cost: 12.5, points: 259, roi: 20.72, played 3254 min\n",
      "Raheem Sterling (Midfielders) Man City,  cost: 12.0, points: 234, roi: 19.50, played 2770 min\n",
      "Sadio Mané (Midfielders) Liverpool,  cost: 11.5, points: 231, roi: 20.09, played 3076 min\n",
      "Gylfi Sigurdsson (Midfielders) Everton,  cost: 8.0, points: 182, roi: 22.75, played 3122 min\n",
      "Ryan Fraser (Midfielders) Bournemouth,  cost: 7.5, points: 181, roi: 24.13, played 3165 min\n",
      "Paul Pogba (Midfielders) Man Utd,  cost: 8.5, points: 179, roi: 21.06, played 3007 min\n",
      "Luka Milivojevic (Midfielders) Crystal Palace,  cost: 7.0, points: 166, roi: 23.71, played 3420 min\n",
      "Christian Eriksen (Midfielders) Spurs,  cost: 9.0, points: 161, roi: 17.89, played 2770 min\n",
      "Heung-Min Son (Midfielders) Spurs,  cost: 9.5, points: 159, roi: 16.74, played 2033 min\n",
      "Leroy Sané (Midfielders) Man City,  cost: 9.5, points: 156, roi: 16.42, played 1857 min\n",
      "--------------------------------------------------------------------------------------------------------------\n",
      "Getting top: Forwards\n",
      "\n",
      "Pierre-Emerick Aubameyang (Forwards) Arsenal,  cost: 11.0, points: 205, roi: 18.64, played 2722 min\n",
      "Sergio Agüero (Forwards) Man City,  cost: 12.0, points: 201, roi: 16.75, played 2457 min\n",
      "Raúl Jiménez (Forwards) Wolves,  cost: 7.5, points: 181, roi: 24.13, played 3112 min\n",
      "Jamie Vardy (Forwards) Leicester,  cost: 9.0, points: 174, roi: 19.33, played 2726 min\n",
      "Callum Wilson (Forwards) Bournemouth,  cost: 8.0, points: 168, roi: 21.00, played 2528 min\n",
      "Alexandre Lacazette (Forwards) Arsenal,  cost: 9.5, points: 166, roi: 17.47, played 2497 min\n",
      "Roberto Firmino (Forwards) Liverpool,  cost: 9.5, points: 160, roi: 16.84, played 2606 min\n",
      "Harry Kane (Forwards) Spurs,  cost: 11.0, points: 160, roi: 14.55, played 2423 min\n",
      "Joshua King (Forwards) Bournemouth,  cost: 6.5, points: 141, roi: 21.69, played 2963 min\n",
      "Diogo Jota (Forwards) Wolves,  cost: 6.5, points: 139, roi: 21.38, played 2352 min\n",
      "--------------------------------------------------------------------------------------------------------------\n"
     ]
    }
   ],
   "source": [
    "print_player_list(point_players, 10)"
   ]
  },
  {
   "cell_type": "markdown",
   "metadata": {},
   "source": [
    "# Roi low cost"
   ]
  },
  {
   "cell_type": "code",
   "execution_count": 151,
   "metadata": {},
   "outputs": [
    {
     "name": "stdout",
     "output_type": "stream",
     "text": [
      "Getting top: Goalkeepers\n",
      "\n",
      "Lukasz Fabianski (Goalkeepers) West Ham,  cost: 5.0, points: 143, roi: 28.60, played 3420 min\n",
      "Martin Dubravka (Goalkeepers) Newcastle,  cost: 5.0, points: 131, roi: 26.20, played 3420 min\n",
      "Ben Foster (Goalkeepers) Watford,  cost: 5.0, points: 129, roi: 25.80, played 3420 min\n",
      "Kasper Schmeichel (Goalkeepers) Leicester,  cost: 5.0, points: 120, roi: 24.00, played 3420 min\n",
      "Rui Pedro dos Santos Patrício (Goalkeepers) Wolves,  cost: 5.0, points: 118, roi: 23.60, played 3330 min\n",
      "Mathew Ryan (Goalkeepers) Brighton,  cost: 4.5, points: 104, roi: 23.11, played 3060 min\n",
      "Jonas Lössl (Goalkeepers) Everton,  cost: 4.5, points: 99, roi: 22.00, played 2777 min\n",
      "Bernd Leno (Goalkeepers) Arsenal,  cost: 5.0, points: 106, roi: 21.20, played 2835 min\n",
      "Alex McCarthy (Goalkeepers) Southampton,  cost: 4.5, points: 73, roi: 16.22, played 2250 min\n",
      "Vicente Guaita (Goalkeepers) Crystal Palace,  cost: 5.0, points: 81, roi: 16.20, played 1754 min\n",
      "--------------------------------------------------------------------------------------------------------------\n",
      "Getting top: Defenders\n",
      "\n",
      "Nathan Aké (Defenders) Bournemouth,  cost: 5.0, points: 120, roi: 24.00, played 3411 min\n",
      "Willy Boly (Defenders) Wolves,  cost: 5.0, points: 120, roi: 24.00, played 3168 min\n",
      "Shane Duffy (Defenders) Brighton,  cost: 5.0, points: 115, roi: 23.00, played 3087 min\n",
      "Kurt Zouma (Defenders) Chelsea,  cost: 5.0, points: 112, roi: 22.40, played 2613 min\n",
      "Jamaal Lascelles (Defenders) Newcastle,  cost: 4.5, points: 95, roi: 21.11, played 2745 min\n",
      "Craig Cathcart (Defenders) Watford,  cost: 4.5, points: 93, roi: 20.67, played 3095 min\n",
      "Lewis Dunk (Defenders) Brighton,  cost: 4.5, points: 91, roi: 20.22, played 3151 min\n",
      "James Tarkowski (Defenders) Burnley,  cost: 5.0, points: 97, roi: 19.40, played 3086 min\n",
      "Issa Diop (Defenders) West Ham,  cost: 4.5, points: 87, roi: 19.33, played 2970 min\n",
      "Conor Coady (Defenders) Wolves,  cost: 5.0, points: 94, roi: 18.80, played 3420 min\n",
      "--------------------------------------------------------------------------------------------------------------\n",
      "Getting top: Midfielders\n",
      "\n",
      "N'Golo Kanté (Midfielders) Chelsea,  cost: 5.0, points: 116, roi: 23.20, played 3092 min\n",
      "Mark Noble (Midfielders) West Ham,  cost: 5.0, points: 99, roi: 19.80, played 2289 min\n",
      "Jorge Luiz Frello Filho (Midfielders) Chelsea,  cost: 5.0, points: 96, roi: 19.20, played 3156 min\n",
      "Solomon March (Midfielders) Brighton,  cost: 5.0, points: 94, roi: 18.80, played 2459 min\n",
      "Declan Rice (Midfielders) West Ham,  cost: 5.0, points: 92, roi: 18.40, played 3003 min\n",
      "Pierre-Emile Højbjerg (Midfielders) Southampton,  cost: 5.0, points: 90, roi: 18.00, played 2760 min\n",
      "Wilfred Ndidi (Midfielders) Leicester,  cost: 5.0, points: 89, roi: 17.80, played 3295 min\n",
      "Jack Cork (Midfielders) Burnley,  cost: 5.0, points: 87, roi: 17.40, played 3312 min\n",
      "Etienne Capoue (Midfielders) Watford,  cost: 5.0, points: 79, roi: 15.80, played 2944 min\n",
      "Lucas Torreira (Midfielders) Arsenal,  cost: 5.0, points: 78, roi: 15.60, played 2377 min\n",
      "--------------------------------------------------------------------------------------------------------------\n",
      "Getting top: Forwards\n",
      "\n",
      "Shane Long (Forwards) Southampton,  cost: 5.0, points: 66, roi: 13.20, played 1260 min\n",
      "Jordan Ayew (Forwards) Crystal Palace,  cost: 5.0, points: 46, roi: 9.20, played 1176 min\n",
      "Isaac Success Ajayi (Forwards) Watford,  cost: 5.0, points: 42, roi: 8.40, played 1033 min\n",
      "Florin Andone (Forwards) Brighton,  cost: 5.0, points: 38, roi: 7.60, played 866 min\n",
      "Jose Luis Mato Sanmartín (Forwards) Newcastle,  cost: 5.0, points: 30, roi: 6.00, played 586 min\n",
      "Lys Mousset (Forwards) Sheffield Utd,  cost: 5.0, points: 28, roi: 5.60, played 350 min\n",
      "Michael Obafemi (Forwards) Southampton,  cost: 5.0, points: 13, roi: 2.60, played 134 min\n",
      "Edward Nketiah (Forwards) Arsenal,  cost: 4.5, points: 10, roi: 2.22, played 63 min\n",
      "Connor Wickham (Forwards) Crystal Palace,  cost: 4.5, points: 9, roi: 2.00, played 61 min\n",
      "Mason Greenwood (Forwards) Man Utd,  cost: 4.5, points: 4, roi: 0.89, played 115 min\n",
      "--------------------------------------------------------------------------------------------------------------\n"
     ]
    }
   ],
   "source": [
    "print_player_list(roi_lowcost_players)"
   ]
  },
  {
   "cell_type": "code",
   "execution_count": null,
   "metadata": {},
   "outputs": [],
   "source": []
  }
 ],
 "metadata": {
  "kernelspec": {
   "display_name": "Python 3",
   "language": "python",
   "name": "python3"
  },
  "language_info": {
   "codemirror_mode": {
    "name": "ipython",
    "version": 3
   },
   "file_extension": ".py",
   "mimetype": "text/x-python",
   "name": "python",
   "nbconvert_exporter": "python",
   "pygments_lexer": "ipython3",
   "version": "3.6.5rc1"
  }
 },
 "nbformat": 4,
 "nbformat_minor": 2
}
